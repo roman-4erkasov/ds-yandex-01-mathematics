{
 "cells": [
  {
   "cell_type": "code",
   "execution_count": 26,
   "metadata": {},
   "outputs": [],
   "source": [
    "import re, scipy\n",
    "from collections import Counter\n",
    "import numpy as np\n",
    "import matplotlib.pyplot as plt"
   ]
  },
  {
   "cell_type": "code",
   "execution_count": 2,
   "metadata": {},
   "outputs": [],
   "source": [
    "word_list = set()\n",
    "sentences = []\n",
    "with open('./sentences.txt', 'r') as fin:\n",
    "    for line in fin:\n",
    "        tokens = filter(lambda x: len(x)>0, re.split('[^a-z]',line.lower()))\n",
    "        word_list = word_list | set(tokens)\n",
    "        sentences.append(dict(Counter(tokens)))"
   ]
  },
  {
   "cell_type": "code",
   "execution_count": 3,
   "metadata": {},
   "outputs": [],
   "source": [
    "word2idx = {word:idx for idx, word in enumerate(word_list)}\n",
    "idx2word = {idx:word for word, idx in word2idx.items()}"
   ]
  },
  {
   "cell_type": "code",
   "execution_count": 4,
   "metadata": {},
   "outputs": [
    {
     "data": {
      "text/plain": [
       "(22, 254)"
      ]
     },
     "execution_count": 4,
     "metadata": {},
     "output_type": "execute_result"
    }
   ],
   "source": [
    "matrix = np.zeros((len(sentences),len(word_list)))\n",
    "matrix.shape"
   ]
  },
  {
   "cell_type": "code",
   "execution_count": 5,
   "metadata": {},
   "outputs": [],
   "source": [
    "for idx, sentence in enumerate(sentences):\n",
    "    for k, v in sentence.items():\n",
    "        matrix[idx,word2idx[k]] = v"
   ]
  },
  {
   "cell_type": "code",
   "execution_count": 6,
   "metadata": {},
   "outputs": [
    {
     "data": {
      "text/plain": [
       "array([ 1.,  1.,  1.,  3.,  1.,  2.,  1.,  1.,  2.,  2.,  1.,  1.,  2.,\n",
       "        1.,  1.,  2.,  1.,  1.,  1.,  1.,  1., 14.,  1.,  1.,  1.,  4.,\n",
       "        1.,  1.,  1.,  1.,  1.,  1.,  1.,  1.,  1.,  1.,  1.,  1.,  1.,\n",
       "        3.,  2.,  1.,  1.,  1.,  2.,  3.,  1.,  2.,  1.,  2.,  1.,  1.,\n",
       "        1.,  1.,  1.,  1.,  4.,  1.,  1.,  1.,  1.,  1.,  1.,  1.,  1.,\n",
       "        1.,  1.,  1.,  2.,  1.,  1.,  1.,  2.,  1.,  1.,  1.,  2.,  3.,\n",
       "        1.,  1.,  1.,  1.,  1.,  2.,  1.,  1.,  9.,  1.,  1.,  3.,  1.,\n",
       "        2.,  1.,  1.,  1.,  3.,  1.,  1.,  1.,  2.,  1.,  1.,  1.,  1.,\n",
       "        8.,  3.,  1., 14.,  1.,  1.,  1.,  8.,  1.,  1.,  4.,  1.,  1.,\n",
       "        2.,  1.,  1.,  1.,  1.,  1.,  1.,  1.,  2.,  1.,  2.,  1.,  1.,\n",
       "        1.,  4.,  2.,  2.,  1.,  1.,  1.,  1.,  1.,  1.,  1.,  1.,  1.,\n",
       "        1.,  1.,  2.,  3.,  3.,  1.,  1.,  1.,  1.,  2.,  1.,  2.,  2.,\n",
       "        1.,  1.,  1.,  1.,  1.,  1.,  2.,  1.,  2.,  1., 10.,  2.,  1.,\n",
       "        3.,  1.,  1.,  1.,  2.,  1.,  1.,  2.,  1.,  2., 19.,  7.,  1.,\n",
       "        1.,  4.,  2.,  1.,  1.,  1.,  5., 11.,  1.,  1.,  1.,  1.,  6.,\n",
       "        1.,  5.,  1.,  1.,  1.,  1.,  1.,  1.,  2.,  1.,  2.,  2.,  2.,\n",
       "        1.,  1.,  1.,  1.,  5.,  1.,  1.,  1.,  1.,  1.,  1.,  1.,  2.,\n",
       "        4.,  1.,  1.,  6.,  1.,  1.,  1.,  2.,  1.,  5.,  1., 13.,  1.,\n",
       "        1.,  1.,  4.,  3.,  2.,  1.,  1.,  1.,  1.,  1.,  1.,  1.,  1.,\n",
       "        1.,  1.,  2., 20.,  1.,  1.,  1.])"
      ]
     },
     "execution_count": 6,
     "metadata": {},
     "output_type": "execute_result"
    }
   ],
   "source": [
    "matrix.sum(0)"
   ]
  },
  {
   "cell_type": "code",
   "execution_count": 8,
   "metadata": {},
   "outputs": [],
   "source": [
    "from scipy.spatial.distance import cosine"
   ]
  },
  {
   "cell_type": "code",
   "execution_count": 10,
   "metadata": {},
   "outputs": [
    {
     "name": "stdout",
     "output_type": "stream",
     "text": [
      "comparison with  1\n",
      "0.9527544408738466\n",
      "\n",
      "comparison with  2\n",
      "0.8644738145642124\n",
      "\n",
      "comparison with  3\n",
      "0.8951715163278082\n",
      "\n",
      "comparison with  4\n",
      "0.7770887149698589\n",
      "\n",
      "comparison with  5\n",
      "0.9402385695332803\n",
      "\n",
      "comparison with  6\n",
      "0.7327387580875756\n",
      "\n",
      "comparison with  7\n",
      "0.9258750683338899\n",
      "\n",
      "comparison with  8\n",
      "0.8842724875284311\n",
      "\n",
      "comparison with  9\n",
      "0.9055088817476932\n",
      "\n",
      "comparison with  10\n",
      "0.8328165362273942\n",
      "\n",
      "comparison with  11\n",
      "0.8804771390665607\n",
      "\n",
      "comparison with  12\n",
      "0.8396432548525454\n",
      "\n",
      "comparison with  13\n",
      "0.8703592552895671\n",
      "\n",
      "comparison with  14\n",
      "0.8740118423302576\n",
      "\n",
      "comparison with  15\n",
      "0.9442721787424647\n",
      "\n",
      "comparison with  16\n",
      "0.8406361854220809\n",
      "\n",
      "comparison with  17\n",
      "0.956644501523794\n",
      "\n",
      "comparison with  18\n",
      "0.9442721787424647\n",
      "\n",
      "comparison with  19\n",
      "0.8885443574849294\n",
      "\n",
      "comparison with  20\n",
      "0.8427572744917122\n",
      "\n",
      "comparison with  21\n",
      "0.8250364469440588\n",
      "\n"
     ]
    }
   ],
   "source": [
    "for idx in range(1,matrix.shape[0]):\n",
    "    print \"comparison with \", idx\n",
    "    print cosine(matrix[0], matrix[idx])\n",
    "    print \"\""
   ]
  },
  {
   "cell_type": "code",
   "execution_count": 12,
   "metadata": {},
   "outputs": [],
   "source": [
    "from scipy.linalg import solve"
   ]
  },
  {
   "cell_type": "code",
   "execution_count": 13,
   "metadata": {},
   "outputs": [],
   "source": [
    "from math import sin, exp"
   ]
  },
  {
   "cell_type": "code",
   "execution_count": 21,
   "metadata": {},
   "outputs": [],
   "source": [
    "f = lambda x: sin(x/5.)*exp(x/10.) + 5*exp(-x/2.)"
   ]
  },
  {
   "cell_type": "code",
   "execution_count": 52,
   "metadata": {},
   "outputs": [
    {
     "name": "stdout",
     "output_type": "stream",
     "text": [
      "[[ 1.  1.]\n",
      " [ 1. 15.]]\n",
      "[3.252216865271419, 0.6352214195786656]\n"
     ]
    },
    {
     "data": {
      "text/plain": [
       "[<matplotlib.lines.Line2D at 0x111848890>]"
      ]
     },
     "execution_count": 52,
     "metadata": {},
     "output_type": "execute_result"
    },
    {
     "data": {
      "image/png": "[encoded data removed]",
      "text/plain": [
       "<Figure size 432x288 with 1 Axes>"
      ]
     },
     "metadata": {
      "needs_background": "light"
     },
     "output_type": "display_data"
    }
   ],
   "source": [
    "x = np.array([[1., 1.], [1., 15.]])\n",
    "print x\n",
    "\n",
    "y = [f(1.), f(15.)]\n",
    "print y\n",
    "\n",
    "w = solve(x, y)\n",
    "\n",
    "idx = [float(i) for i in range(1,16)]\n",
    "plt.plot(idx, [f(i) for i in idx], 'b')\n",
    "plt.plot(idx, [w[0]+w[1]*i for i in idx], 'r')"
   ]
  },
  {
   "cell_type": "code",
   "execution_count": null,
   "metadata": {},
   "outputs": [],
   "source": [
    "plo"
   ]
  },
  {
   "cell_type": "code",
   "execution_count": 53,
   "metadata": {},
   "outputs": [
    {
     "name": "stdout",
     "output_type": "stream",
     "text": [
      "[[  1.   1.   1.]\n",
      " [  1.   8.  64.]\n",
      " [  1.  15. 225.]]\n",
      "[3.25221687 2.31617016 0.63522142]\n"
     ]
    },
    {
     "data": {
      "text/plain": [
       "[<matplotlib.lines.Line2D at 0x112336510>]"
      ]
     },
     "execution_count": 53,
     "metadata": {},
     "output_type": "execute_result"
    },
    {
     "data": {
      "image/png": "[encoded data removed]",
      "text/plain": [
       "<Figure size 432x288 with 1 Axes>"
      ]
     },
     "metadata": {
      "needs_background": "light"
     },
     "output_type": "display_data"
    }
   ],
   "source": [
    "x = np.array([[1., 1., 1.], [1., 8., 8.**2],[1., 15., 15.**2]])\n",
    "print x\n",
    "\n",
    "y = np.array([f(1.), f(8.), f(15.)])\n",
    "print y\n",
    "\n",
    "w = solve(x, y)\n",
    "\n",
    "idx = [float(i) for i in range(1,15)]\n",
    "plt.plot(idx, [f(i) for i in idx], 'b')\n",
    "plt.plot(idx, [w[0]+w[1]*i+w[2]*i**2 for i in idx], 'r')"
   ]
  },
  {
   "cell_type": "code",
   "execution_count": 54,
   "metadata": {},
   "outputs": [
    {
     "name": "stdout",
     "output_type": "stream",
     "text": [
      "[[1.000e+00 1.000e+00 1.000e+00 1.000e+00]\n",
      " [1.000e+00 4.000e+00 1.600e+01 6.400e+01]\n",
      " [1.000e+00 1.000e+01 1.000e+02 1.000e+03]\n",
      " [1.000e+00 1.500e+01 2.250e+02 3.375e+03]]\n",
      "[3.25221687 1.74684595 2.50541641 0.63522142]\n",
      "4.36264153512 -1.29552586569 0.193336847022 -0.00823565117332\n"
     ]
    },
    {
     "data": {
      "text/plain": [
       "[<matplotlib.lines.Line2D at 0x111246e90>]"
      ]
     },
     "execution_count": 54,
     "metadata": {},
     "output_type": "execute_result"
    },
    {
     "data": {
      "image/png": "[encoded data removed]",
      "text/plain": [
       "<Figure size 432x288 with 1 Axes>"
      ]
     },
     "metadata": {
      "needs_background": "light"
     },
     "output_type": "display_data"
    }
   ],
   "source": [
    "x = np.array([[1., 1., 1., 1.], [1., 4., 4.**2, 4.**3],[1., 10., 10.**2, 10.**3], [1., 15., 15.**2, 15.**3]])\n",
    "print x\n",
    "\n",
    "y = np.array([f(1.), f(4.), f(10.), f(15.)])\n",
    "print y\n",
    "\n",
    "w = solve(x,y)\n",
    "\n",
    "print ' '.join(map(str, w.tolist()))\n",
    "\n",
    "idx = [float(i) for i in range(1,16)]\n",
    "plt.plot(idx, [f(i) for i in idx], 'b')\n",
    "plt.plot(idx, [w[0]+w[1]*i+w[2]*i**2+w[3]*i**3 for i in idx], 'r')"
   ]
  },
  {
   "cell_type": "code",
   "execution_count": null,
   "metadata": {},
   "outputs": [],
   "source": []
  },
  {
   "cell_type": "code",
   "execution_count": null,
   "metadata": {},
   "outputs": [],
   "source": []
  }
 ],
 "metadata": {
  "kernelspec": {
   "display_name": "Python 2",
   "language": "python",
   "name": "python2"
  },
  "language_info": {
   "codemirror_mode": {
    "name": "ipython",
    "version": 2
   },
   "file_extension": ".py",
   "mimetype": "text/x-python",
   "name": "python",
   "nbconvert_exporter": "python",
   "pygments_lexer": "ipython2",
   "version": "2.7.10"
  }
 },
 "nbformat": 4,
 "nbformat_minor": 2
}
