{
 "cells": [
  {
   "cell_type": "code",
   "execution_count": 10,
   "metadata": {},
   "outputs": [],
   "source": [
    "import numpy as np\n",
    "import matplotlib.pyplot as plt\n",
    "import scipy.stats as sts\n",
    "%matplotlib inline\n",
    "import math"
   ]
  },
  {
   "cell_type": "code",
   "execution_count": 11,
   "metadata": {
    "scrolled": false
   },
   "outputs": [
    {
     "data": {
      "text/plain": [
       "<matplotlib.legend.Legend at 0x107234490>"
      ]
     },
     "execution_count": 11,
     "metadata": {},
     "output_type": "execute_result"
    },
    {
     "data": {
      "image/png": "[encoded data removed]",
      "text/plain": [
       "<Figure size 432x288 with 1 Axes>"
      ]
     },
     "metadata": {
      "needs_background": "light"
     },
     "output_type": "display_data"
    }
   ],
   "source": [
    "fun = sts.uniform(0, 5)#функция равномерного распреления\n",
    "data = fun.rvs(1000)\n",
    "x = np.linspace(0,5,1000)#линейный массив точек \n",
    "y = fun.pdf(x)#вычислим плотность вероятности\n",
    "#строим гистрограмму выборки и теоретическую функцию распределения\n",
    "plt.plot(x, y, label=u'Теоретическая плотность распределения')\n",
    "plt.hist(data, bins =40, range=(0,5), normed=True)\n",
    "plt.ylabel('f(x)')\n",
    "plt.xlabel('x')\n",
    "plt.legend(loc='best')"
   ]
  },
  {
   "cell_type": "code",
   "execution_count": 12,
   "metadata": {},
   "outputs": [],
   "source": [
    "# n = 3"
   ]
  },
  {
   "cell_type": "code",
   "execution_count": 14,
   "metadata": {},
   "outputs": [
    {
     "data": {
      "text/plain": [
       "<matplotlib.legend.Legend at 0x1074be610>"
      ]
     },
     "execution_count": 14,
     "metadata": {},
     "output_type": "execute_result"
    },
    {
     "data": {
      "image/png": "[encoded data removed]",
      "text/plain": [
       "<Figure size 432x288 with 1 Axes>"
      ]
     },
     "metadata": {
      "needs_background": "light"
     },
     "output_type": "display_data"
    }
   ],
   "source": [
    "n=3\n",
    "x = np.linspace(0,5,1000)\n",
    "data3=np.array([])#заготовка для массив выборочных средних\n",
    "i=0\n",
    "while i < 1000:\n",
    "    sample3i = fun.rvs(n)#генерация выборки\n",
    "    mean3i=sum(sample3i)/n#подсчет выборочного среднего для i-ой выборки\n",
    "    data3=np.append(data3,mean3i)\n",
    "    i+=1\n",
    "#определим параметры нормального распределения описывающие массив 1000 в.с. при n=3\n",
    "E=(5+0)/2#Мат.ожидание р.р.\n",
    "D=((5-0)**2)/12#дисперсия р.р.\n",
    "D3=D/3#дисперсия для нормального распределения выборки средних\n",
    "sigma3=math.sqrt(D3)#сигма для нормального распределения выборки средних\n",
    "norm3 = sts.norm(E, sigma3)#определим нормальное распределение с расчетными характеристиками\n",
    "y3 = norm3.pdf(x)#расчет плотности распределения\n",
    "#построим гистограмму распредлений выборочных средних при n=3 + плотность соотв. норм. распр.\n",
    "plt.plot(x, y3)\n",
    "plt.hist(sample3i, bins =40, range=(0,5), normed=True)\n",
    "plt.ylabel('f(x)')\n",
    "plt.xlabel('$x$')\n",
    "plt.legend(loc='best')"
   ]
  },
  {
   "cell_type": "code",
   "execution_count": 15,
   "metadata": {},
   "outputs": [],
   "source": [
    "# n = 10"
   ]
  },
  {
   "cell_type": "code",
   "execution_count": 17,
   "metadata": {},
   "outputs": [
    {
     "ename": "NameError",
     "evalue": "name 'sample10' is not defined",
     "output_type": "error",
     "traceback": [
      "\u001b[0;31m---------------------------------------------------------------------------\u001b[0m",
      "\u001b[0;31mNameError\u001b[0m                                 Traceback (most recent call last)",
      "\u001b[0;32m<ipython-input-17-1e8c39784c95>\u001b[0m in \u001b[0;36m<module>\u001b[0;34m()\u001b[0m\n\u001b[1;32m     15\u001b[0m \u001b[0my10\u001b[0m \u001b[0;34m=\u001b[0m \u001b[0mnorm10\u001b[0m\u001b[0;34m.\u001b[0m\u001b[0mpdf\u001b[0m\u001b[0;34m(\u001b[0m\u001b[0mx\u001b[0m\u001b[0;34m)\u001b[0m\u001b[0;34m\u001b[0m\u001b[0m\n\u001b[1;32m     16\u001b[0m \u001b[0mplt\u001b[0m\u001b[0;34m.\u001b[0m\u001b[0mplot\u001b[0m\u001b[0;34m(\u001b[0m\u001b[0mx\u001b[0m\u001b[0;34m,\u001b[0m \u001b[0my10\u001b[0m\u001b[0;34m)\u001b[0m\u001b[0;34m\u001b[0m\u001b[0m\n\u001b[0;32m---> 17\u001b[0;31m \u001b[0mplt\u001b[0m\u001b[0;34m.\u001b[0m\u001b[0mhist\u001b[0m\u001b[0;34m(\u001b[0m\u001b[0msample10\u001b[0m\u001b[0;34m,\u001b[0m \u001b[0mbins\u001b[0m \u001b[0;34m=\u001b[0m\u001b[0;36m40\u001b[0m\u001b[0;34m,\u001b[0m \u001b[0mrange\u001b[0m\u001b[0;34m=\u001b[0m\u001b[0;34m(\u001b[0m\u001b[0;36m0\u001b[0m\u001b[0;34m,\u001b[0m\u001b[0;36m5\u001b[0m\u001b[0;34m)\u001b[0m\u001b[0;34m,\u001b[0m \u001b[0mnormed\u001b[0m\u001b[0;34m=\u001b[0m\u001b[0mTrue\u001b[0m\u001b[0;34m)\u001b[0m\u001b[0;34m\u001b[0m\u001b[0m\n\u001b[0m\u001b[1;32m     18\u001b[0m \u001b[0mplt\u001b[0m\u001b[0;34m.\u001b[0m\u001b[0mylabel\u001b[0m\u001b[0;34m(\u001b[0m\u001b[0;34m'f(x)'\u001b[0m\u001b[0;34m)\u001b[0m\u001b[0;34m\u001b[0m\u001b[0m\n\u001b[1;32m     19\u001b[0m \u001b[0mplt\u001b[0m\u001b[0;34m.\u001b[0m\u001b[0mxlabel\u001b[0m\u001b[0;34m(\u001b[0m\u001b[0;34m'$x$'\u001b[0m\u001b[0;34m)\u001b[0m\u001b[0;34m\u001b[0m\u001b[0m\n",
      "\u001b[0;31mNameError\u001b[0m: name 'sample10' is not defined"
     ]
    },
    {
     "data": {
      "image/png": "[encoded data removed]",
      "text/plain": [
       "<Figure size 432x288 with 1 Axes>"
      ]
     },
     "metadata": {
      "needs_background": "light"
     },
     "output_type": "display_data"
    }
   ],
   "source": [
    "n=10#аналогичные действия для большего n\n",
    "x = np.linspace(0,5,1000)\n",
    "data10=np.array([])\n",
    "i=0\n",
    "while i < 1000:\n",
    "    sample10i = fun.rvs(n)\n",
    "    mean10i=sum(sample10i)/n\n",
    "    data10=np.append(data10,mean10i)\n",
    "    i+=1\n",
    "E=(5+0)/2\n",
    "D=((5-0)**2)/12\n",
    "D10=D/n\n",
    "sigma10=math.sqrt(D10)\n",
    "norm10 = sts.norm(E, sigma10)\n",
    "y10 = norm10.pdf(x)\n",
    "plt.plot(x, y10)\n",
    "plt.hist(sample10, bins =40, range=(0,5), normed=True)\n",
    "plt.ylabel('f(x)')\n",
    "plt.xlabel('$x$')\n",
    "plt.legend(loc='best')"
   ]
  },
  {
   "cell_type": "code",
   "execution_count": null,
   "metadata": {
    "collapsed": true
   },
   "outputs": [],
   "source": [
    "# n = 100"
   ]
  },
  {
   "cell_type": "code",
   "execution_count": 66,
   "metadata": {},
   "outputs": [
    {
     "data": {
      "text/plain": [
       "<matplotlib.legend.Legend at 0x7fdbd67336d8>"
      ]
     },
     "execution_count": 66,
     "metadata": {},
     "output_type": "execute_result"
    },
    {
     "data": {
      "image/png": "[encoded data removed]",
      "text/plain": [
       "<matplotlib.figure.Figure at 0x7fdbd61562e8>"
      ]
     },
     "metadata": {},
     "output_type": "display_data"
    }
   ],
   "source": [
    "n=100\n",
    "data100=np.array([])\n",
    "i=0\n",
    "while i < 1000:\n",
    "    sample100i =fun.rvs(n)\n",
    "    mean100i=sum(sample100i)/n\n",
    "    data100=np.append(data100, mean100i)\n",
    "    i+=1\n",
    "E=(5+0)/2\n",
    "D=((5-0)**2)/12\n",
    "D50=D/n\n",
    "sigma100=math.sqrt(D50)\n",
    "norm100 = sts.norm(E, sigma100)\n",
    "x = np.linspace(0,5,1000)\n",
    "y100 = norm100.pdf(x)\n",
    "plt.plot(x, y100, label='Плотность для n=100')\n",
    "plt.hist(data100, bins =100, range=(0,5), normed=True)\n",
    "plt.ylabel('f(x)')\n",
    "plt.xlabel('$x$')\n",
    "plt.legend(loc='best')"
   ]
  },
  {
   "cell_type": "code",
   "execution_count": null,
   "metadata": {
    "collapsed": true
   },
   "outputs": [],
   "source": [
    "# n = 1000"
   ]
  },
  {
   "cell_type": "code",
   "execution_count": 72,
   "metadata": {},
   "outputs": [
    {
     "data": {
      "text/plain": [
       "<matplotlib.legend.Legend at 0x7fdbd58e80f0>"
      ]
     },
     "execution_count": 72,
     "metadata": {},
     "output_type": "execute_result"
    },
    {
     "data": {
      "image/png": "[encoded data removed]",
      "text/plain": [
       "<matplotlib.figure.Figure at 0x7fdbd58e87f0>"
      ]
     },
     "metadata": {},
     "output_type": "display_data"
    }
   ],
   "source": [
    "n=1000\n",
    "x = np.linspace(0,5,1000)\n",
    "data1000=np.array([])\n",
    "i=1\n",
    "while i <= 1000:\n",
    "    sample1000i = fun.rvs(n)\n",
    "    mean1000i=sum(sample1000i)/n\n",
    "    data1000=np.append(data1000,mean1000i)\n",
    "    i+=1\n",
    "E=2.5\n",
    "D=25/12\n",
    "D1000=D/n\n",
    "sigma1000=math.sqrt(D1000)\n",
    "norm1000 = sts.norm(E, sigma1000)\n",
    "y1000 = norm1000.pdf(x)\n",
    "plt.plot(x, y1000, label='Плотность для n=1000')\n",
    "plt.hist(sample1000, bins =200, range=(0,5), normed=True)\n",
    "plt.ylabel('f(x)')\n",
    "plt.xlabel('$x$')\n",
    "plt.legend(loc='best')"
   ]
  },
  {
   "cell_type": "markdown",
   "metadata": {},
   "source": [
    "Для решения задачи выбрано непрерывное  распределение - равномерное от 0 до 5. Рассчитано математическое ожидание= 2.5, дисперсия = 25/12. По ходу выполнения решения было показано, что при достаточно большом объеме выборки (при n>30) распределение выборочных средних стремится к нормальному рапределению с M=2.5, дисперсией = (25/12)/n."
   ]
  }
 ],
 "metadata": {
  "kernelspec": {
   "display_name": "Python 2",
   "language": "python",
   "name": "python2"
  },
  "language_info": {
   "codemirror_mode": {
    "name": "ipython",
    "version": 2
   },
   "file_extension": ".py",
   "mimetype": "text/x-python",
   "name": "python",
   "nbconvert_exporter": "python",
   "pygments_lexer": "ipython2",
   "version": "2.7.10"
  }
 },
 "nbformat": 4,
 "nbformat_minor": 2
}
